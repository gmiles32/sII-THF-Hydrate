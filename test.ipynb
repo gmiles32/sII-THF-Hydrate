{
 "cells": [
  {
   "cell_type": "code",
   "execution_count": 51,
   "metadata": {},
   "outputs": [],
   "source": [
    "import numpy as np\n",
    "import pandas as pd"
   ]
  },
  {
   "cell_type": "code",
   "execution_count": 52,
   "metadata": {},
   "outputs": [],
   "source": [
    "hydrate=pd.read_csv('s2-hydrate.csv',index_col=0)\n",
    "cages=pd.read_csv('s2-cages.csv')\n",
    "thf=pd.read_csv('thf.csv')"
   ]
  },
  {
   "attachments": {},
   "cell_type": "markdown",
   "metadata": {},
   "source": [
    "Refactor the hydrate file into an xyz format"
   ]
  },
  {
   "cell_type": "code",
   "execution_count": 53,
   "metadata": {},
   "outputs": [],
   "source": [
    "hydrate_ox=pd.DataFrame()\n",
    "hydrate_ox[['X','Y','Z']]=hydrate[['OX','OY','OZ']]\n",
    "hydrate_ox.insert(0,'ELEMENT','O')\n",
    "hydrate_hy=pd.DataFrame()\n",
    "hydrate_hy[['X','Y','Z']]=hydrate[['H1X','H1Y','H1Z']]\n",
    "tmp=pd.DataFrame()\n",
    "tmp[['X','Y','Z']]=hydrate[['H2X','H2Y','H2Z']]\n",
    "hydrate_hy=pd.concat([hydrate_hy,tmp])\n",
    "hydrate_hy.insert(0,'ELEMENT','H')\n",
    "hydrate_total = pd.concat([hydrate_ox[['ELEMENT','X','Y','Z']],hydrate_hy[['ELEMENT','X','Y','Z']]]).reset_index().drop(columns='index')"
   ]
  },
  {
   "cell_type": "code",
   "execution_count": 54,
   "metadata": {},
   "outputs": [
    {
     "name": "stdout",
     "output_type": "stream",
     "text": [
      "<class 'pandas.core.frame.DataFrame'>\n",
      "RangeIndex: 408 entries, 0 to 407\n",
      "Data columns (total 4 columns):\n",
      " #   Column   Non-Null Count  Dtype  \n",
      "---  ------   --------------  -----  \n",
      " 0   ELEMENT  408 non-null    object \n",
      " 1   X        408 non-null    float64\n",
      " 2   Y        408 non-null    float64\n",
      " 3   Z        408 non-null    float64\n",
      "dtypes: float64(3), object(1)\n",
      "memory usage: 12.9+ KB\n"
     ]
    }
   ],
   "source": [
    "hydrate_total.info()"
   ]
  },
  {
   "attachments": {},
   "cell_type": "markdown",
   "metadata": {},
   "source": [
    "The following allows to visualize the hydrate in 3D (not as fancy as VMD though)"
   ]
  },
  {
   "cell_type": "code",
   "execution_count": 55,
   "metadata": {},
   "outputs": [],
   "source": [
    "%matplotlib qt5"
   ]
  },
  {
   "cell_type": "code",
   "execution_count": 56,
   "metadata": {},
   "outputs": [
    {
     "data": {
      "text/plain": [
       "<mpl_toolkits.mplot3d.art3d.Path3DCollection at 0x7f408f94d8d0>"
      ]
     },
     "execution_count": 56,
     "metadata": {},
     "output_type": "execute_result"
    }
   ],
   "source": [
    "import matplotlib.pyplot as plt\n",
    "fig = plt.figure()\n",
    "ax = fig.add_subplot(111, projection='3d')\n",
    "ax.scatter(xs=hydrate_ox['X'].values,ys=hydrate_ox['Y'].values,zs=hydrate_ox['Z'].values,c='red')\n",
    "ax.scatter(xs=hydrate_hy['X'].values,ys=hydrate_hy['Y'].values,zs=hydrate_hy['Z'].values,c='white')"
   ]
  },
  {
   "cell_type": "code",
   "execution_count": 57,
   "metadata": {},
   "outputs": [
    {
     "data": {
      "text/plain": [
       "X    17.677534\n",
       "Y   -11.329676\n",
       "Z     0.000000\n",
       "dtype: float64"
      ]
     },
     "execution_count": 57,
     "metadata": {},
     "output_type": "execute_result"
    }
   ],
   "source": [
    "thf_center = thf[['X', 'Y', 'Z']].mean()\n",
    "thf_center"
   ]
  },
  {
   "cell_type": "code",
   "execution_count": 58,
   "metadata": {},
   "outputs": [],
   "source": [
    "import matplotlib.pyplot as plt\n",
    "fig = plt.figure()\n",
    "ax = fig.add_subplot(111, projection='3d')\n",
    "ax.scatter(xs=thf['X'].values,ys=thf['Y'].values,zs=thf['Z'].values,c='red')\n",
    "ax.scatter(xs=thf_center['X'],ys=thf_center['Y'],zs=thf_center['Z'],c='blue')\n",
    "plt.show()"
   ]
  },
  {
   "cell_type": "code",
   "execution_count": 59,
   "metadata": {},
   "outputs": [
    {
     "data": {
      "text/plain": [
       "X    8.651\n",
       "Y    8.655\n",
       "Z    8.654\n",
       "Name: 16, dtype: float64"
      ]
     },
     "execution_count": 59,
     "metadata": {},
     "output_type": "execute_result"
    }
   ],
   "source": [
    "thf_translated = thf.copy()\n",
    "large_cages = cages[cages['TYPE'].str.contains('Large')]\n",
    "large_cages[['X','Y','Z']].iloc[0]"
   ]
  },
  {
   "cell_type": "code",
   "execution_count": 60,
   "metadata": {},
   "outputs": [
    {
     "data": {
      "text/plain": [
       "X     9.026534\n",
       "Y   -19.984676\n",
       "Z    -8.654000\n",
       "dtype: float64"
      ]
     },
     "execution_count": 60,
     "metadata": {},
     "output_type": "execute_result"
    }
   ],
   "source": [
    "dxyz = thf_center - large_cages[['X','Y','Z']].iloc[0]\n",
    "dxyz"
   ]
  },
  {
   "cell_type": "code",
   "execution_count": 61,
   "metadata": {},
   "outputs": [
    {
     "data": {
      "text/html": [
       "<div>\n",
       "<style scoped>\n",
       "    .dataframe tbody tr th:only-of-type {\n",
       "        vertical-align: middle;\n",
       "    }\n",
       "\n",
       "    .dataframe tbody tr th {\n",
       "        vertical-align: top;\n",
       "    }\n",
       "\n",
       "    .dataframe thead th {\n",
       "        text-align: right;\n",
       "    }\n",
       "</style>\n",
       "<table border=\"1\" class=\"dataframe\">\n",
       "  <thead>\n",
       "    <tr style=\"text-align: right;\">\n",
       "      <th></th>\n",
       "      <th>X</th>\n",
       "      <th>Y</th>\n",
       "      <th>Z</th>\n",
       "    </tr>\n",
       "  </thead>\n",
       "  <tbody>\n",
       "    <tr>\n",
       "      <th>0</th>\n",
       "      <td>7.848466</td>\n",
       "      <td>9.359676</td>\n",
       "      <td>8.654</td>\n",
       "    </tr>\n",
       "    <tr>\n",
       "      <th>1</th>\n",
       "      <td>7.848466</td>\n",
       "      <td>7.859676</td>\n",
       "      <td>8.654</td>\n",
       "    </tr>\n",
       "    <tr>\n",
       "      <th>2</th>\n",
       "      <td>9.275066</td>\n",
       "      <td>7.396176</td>\n",
       "      <td>8.654</td>\n",
       "    </tr>\n",
       "    <tr>\n",
       "      <th>3</th>\n",
       "      <td>10.156766</td>\n",
       "      <td>8.609676</td>\n",
       "      <td>8.654</td>\n",
       "    </tr>\n",
       "    <tr>\n",
       "      <th>4</th>\n",
       "      <td>9.275066</td>\n",
       "      <td>9.823176</td>\n",
       "      <td>8.654</td>\n",
       "    </tr>\n",
       "    <tr>\n",
       "      <th>5</th>\n",
       "      <td>6.982826</td>\n",
       "      <td>9.988616</td>\n",
       "      <td>8.654</td>\n",
       "    </tr>\n",
       "    <tr>\n",
       "      <th>6</th>\n",
       "      <td>8.015866</td>\n",
       "      <td>10.416496</td>\n",
       "      <td>8.654</td>\n",
       "    </tr>\n",
       "    <tr>\n",
       "      <th>7</th>\n",
       "      <td>6.982826</td>\n",
       "      <td>7.230736</td>\n",
       "      <td>8.654</td>\n",
       "    </tr>\n",
       "    <tr>\n",
       "      <th>8</th>\n",
       "      <td>8.015866</td>\n",
       "      <td>6.802856</td>\n",
       "      <td>8.654</td>\n",
       "    </tr>\n",
       "    <tr>\n",
       "      <th>9</th>\n",
       "      <td>9.605716</td>\n",
       "      <td>6.378546</td>\n",
       "      <td>8.654</td>\n",
       "    </tr>\n",
       "    <tr>\n",
       "      <th>10</th>\n",
       "      <td>10.331886</td>\n",
       "      <td>7.228776</td>\n",
       "      <td>8.654</td>\n",
       "    </tr>\n",
       "    <tr>\n",
       "      <th>11</th>\n",
       "      <td>9.605716</td>\n",
       "      <td>10.840806</td>\n",
       "      <td>8.654</td>\n",
       "    </tr>\n",
       "    <tr>\n",
       "      <th>12</th>\n",
       "      <td>8.518466</td>\n",
       "      <td>10.579786</td>\n",
       "      <td>8.654</td>\n",
       "    </tr>\n",
       "  </tbody>\n",
       "</table>\n",
       "</div>"
      ],
      "text/plain": [
       "            X          Y      Z\n",
       "0    7.848466   9.359676  8.654\n",
       "1    7.848466   7.859676  8.654\n",
       "2    9.275066   7.396176  8.654\n",
       "3   10.156766   8.609676  8.654\n",
       "4    9.275066   9.823176  8.654\n",
       "5    6.982826   9.988616  8.654\n",
       "6    8.015866  10.416496  8.654\n",
       "7    6.982826   7.230736  8.654\n",
       "8    8.015866   6.802856  8.654\n",
       "9    9.605716   6.378546  8.654\n",
       "10  10.331886   7.228776  8.654\n",
       "11   9.605716  10.840806  8.654\n",
       "12   8.518466  10.579786  8.654"
      ]
     },
     "execution_count": 61,
     "metadata": {},
     "output_type": "execute_result"
    }
   ],
   "source": [
    "thf_translated = thf_translated[['X','Y','Z']] - dxyz\n",
    "thf_translated"
   ]
  },
  {
   "cell_type": "code",
   "execution_count": 62,
   "metadata": {},
   "outputs": [],
   "source": [
    "import matplotlib.pyplot as plt\n",
    "fig = plt.figure()\n",
    "ax = fig.add_subplot(111, projection='3d')\n",
    "ax.scatter(xs=hydrate_ox['X'].values,ys=hydrate_ox['Y'].values,zs=hydrate_ox['Z'].values,c='red')\n",
    "ax.scatter(xs=hydrate_hy['X'].values,ys=hydrate_hy['Y'].values,zs=hydrate_hy['Z'].values,c='white')\n",
    "ax.scatter(xs=thf_translated['X'].values,ys=thf_translated['Y'].values,zs=thf_translated['Z'].values,c='blue')\n",
    "plt.show()"
   ]
  },
  {
   "attachments": {},
   "cell_type": "markdown",
   "metadata": {},
   "source": [
    "Cool, so now THF is centered within the large cell of the hydrate."
   ]
  },
  {
   "cell_type": "code",
   "execution_count": 81,
   "metadata": {},
   "outputs": [
    {
     "name": "stdout",
     "output_type": "stream",
     "text": [
      "<class 'pandas.core.frame.DataFrame'>\n",
      "Int64Index: 512 entries, 0 to 12\n",
      "Data columns (total 4 columns):\n",
      " #   Column   Non-Null Count  Dtype  \n",
      "---  ------   --------------  -----  \n",
      " 0   ELEMENT  512 non-null    object \n",
      " 1   X        512 non-null    float64\n",
      " 2   Y        512 non-null    float64\n",
      " 3   Z        512 non-null    float64\n",
      "dtypes: float64(3), object(1)\n",
      "memory usage: 20.0+ KB\n"
     ]
    }
   ],
   "source": [
    "# This loop recenters THF and places it in all 8 large cages of the sII hydrate\n",
    "thf_hydrate = hydrate_total.copy()\n",
    "for i in range(len(large_cages.index)):\n",
    "    dxyz = thf_center - large_cages[['X','Y','Z']].iloc[i]\n",
    "    thf_translated = thf.copy()\n",
    "    thf_translated[['X','Y','Z']] = thf_translated[['X','Y','Z']] - dxyz\n",
    "    thf_hydrate = pd.concat([thf_hydrate, thf_translated])\n",
    "\n",
    "thf_hydrate.info()\n",
    "\n",
    "    "
   ]
  },
  {
   "cell_type": "code",
   "execution_count": 83,
   "metadata": {},
   "outputs": [],
   "source": [
    "import matplotlib.pyplot as plt\n",
    "fig = plt.figure()\n",
    "ax = fig.add_subplot(111, projection='3d')\n",
    "ax.scatter(xs=thf_hydrate['X'].loc[thf_hydrate['ELEMENT'].str.contains('O')].values,ys=thf_hydrate['Y'].loc[thf_hydrate['ELEMENT'].str.contains('O')].values,zs=thf_hydrate['Z'].loc[thf_hydrate['ELEMENT'].str.contains('O')].values,c='red')\n",
    "ax.scatter(xs=thf_hydrate['X'].loc[thf_hydrate['ELEMENT'].str.contains('H')].values,ys=thf_hydrate['Y'].loc[thf_hydrate['ELEMENT'].str.contains('H')].values,zs=thf_hydrate['Z'].loc[thf_hydrate['ELEMENT'].str.contains('H')].values,c='white')\n",
    "ax.scatter(xs=thf_hydrate['X'].loc[thf_hydrate['ELEMENT'].str.contains('C')].values,ys=thf_hydrate['Y'].loc[thf_hydrate['ELEMENT'].str.contains('C')].values,zs=thf_hydrate['Z'].loc[thf_hydrate['ELEMENT'].str.contains('C')].values,c='blue')\n",
    "plt.show()"
   ]
  },
  {
   "cell_type": "code",
   "execution_count": 124,
   "metadata": {},
   "outputs": [],
   "source": [
    "thf_hydrate.to_csv('tmp.xyz', sep='\\t', index=False)"
   ]
  }
 ],
 "metadata": {
  "kernelspec": {
   "display_name": "oliviero",
   "language": "python",
   "name": "python3"
  },
  "language_info": {
   "codemirror_mode": {
    "name": "ipython",
    "version": 3
   },
   "file_extension": ".py",
   "mimetype": "text/x-python",
   "name": "python",
   "nbconvert_exporter": "python",
   "pygments_lexer": "ipython3",
   "version": "3.10.9"
  },
  "orig_nbformat": 4,
  "vscode": {
   "interpreter": {
    "hash": "c3c3f29cbc0fd45290fa75f1ea141586dfc1082b7260129fa81ac20c6337838c"
   }
  }
 },
 "nbformat": 4,
 "nbformat_minor": 2
}
